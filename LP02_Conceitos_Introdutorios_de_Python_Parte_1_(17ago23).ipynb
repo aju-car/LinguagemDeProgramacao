{
  "nbformat": 4,
  "nbformat_minor": 0,
  "metadata": {
    "colab": {
      "private_outputs": true,
      "provenance": []
    },
    "kernelspec": {
      "name": "python3",
      "display_name": "Python 3"
    },
    "language_info": {
      "name": "python"
    }
  },
  "cells": [
    {
      "cell_type": "markdown",
      "source": [
        "#Fórmula para converter Graus para Radianos:"
      ],
      "metadata": {
        "id": "8DAtCVUMyyXj"
      }
    },
    {
      "cell_type": "code",
      "source": [
        "# Import math Library\n",
        "import math\n",
        "PI = math.pi\n",
        "Vg = float(input(\"Digite valor em graus: \"))\n",
        "Vr = (Vg*PI)/180.0\n",
        "print(Vr)"
      ],
      "metadata": {
        "id": "bUEroQDtlADW"
      },
      "execution_count": null,
      "outputs": []
    },
    {
      "cell_type": "markdown",
      "source": [
        "Ex.01)Dado um ângulo em radianos, elaborar um programa para converter este valor para graus.\n",
        "\n"
      ],
      "metadata": {
        "id": "fFZrrM_ohksl"
      }
    },
    {
      "cell_type": "code",
      "source": [
        "import math\n",
        "PI = math.pi\n",
        "Vr = float(input(\"Digite valor em radianos: \"))\n",
        "Vg = (Vr*180)/PI\n",
        "print(Vg)"
      ],
      "metadata": {
        "id": "ObF-Psacy5ri"
      },
      "execution_count": null,
      "outputs": []
    },
    {
      "cell_type": "markdown",
      "source": [
        "Ex.02)Dado um ângulo em radianos, elaborar um programa para converter este valor para grados. Lembrar que 400 grados\n",
        "equivalem a 2𝜋."
      ],
      "metadata": {
        "id": "o7MraXCzrrL1"
      }
    },
    {
      "cell_type": "code",
      "source": [
        "import math\n",
        "PI = math.pi\n",
        "#ENTRADA: grados\n",
        "radianos = float(input(\"Digite valor em radianos: \"))\n",
        "#PROCESSAMENTO\n",
        "grados = (radianos*400)/(2*PI)\n",
        "#SAÍDA\n",
        "print(grados)"
      ],
      "metadata": {
        "id": "Xpit5bZ3ruKH"
      },
      "execution_count": null,
      "outputs": []
    },
    {
      "cell_type": "markdown",
      "source": [
        "Ex.03) Dada uma medida em polegadas, elaborar um programa para converter o valor dado para milímetros. (1”=25,4mm)\n"
      ],
      "metadata": {
        "id": "YWHYxmql3ygW"
      }
    },
    {
      "cell_type": "code",
      "source": [
        "p = float(input(\"Digite valor em polegadas: \"))\n",
        "mm = p*25.4\n",
        "print(mm)"
      ],
      "metadata": {
        "id": "WEq7V1xs32yx"
      },
      "execution_count": null,
      "outputs": []
    },
    {
      "cell_type": "markdown",
      "source": [
        "Ex.04) Dada uma medida em milímetros, elaborar um programa para converter o valor dado para polegadas."
      ],
      "metadata": {
        "id": "XTmPrwFd4HI3"
      }
    },
    {
      "cell_type": "code",
      "source": [
        "mm = float(input(\"Digite valor em milimetros: \"))\n",
        "p = mm/25.4\n",
        "print(p)"
      ],
      "metadata": {
        "id": "RiHvjPeP4VZK"
      },
      "execution_count": null,
      "outputs": []
    },
    {
      "cell_type": "markdown",
      "source": [
        "\n",
        "Ex.05) Dada uma temperatura em Graus Celsius (c), elaborar umap rograma para converter a temperatura para Farenheit (f).\n",
        "\n",
        "> Bloco com recuo\n",
        "\n"
      ],
      "metadata": {
        "id": "vAYQMIQkTKF5"
      }
    },
    {
      "cell_type": "code",
      "source": [
        "c = float(input(\"Digite temperatura em graus Celsius: \"))\n",
        "f = (9/5.0)*c + 32\n",
        "print(f)"
      ],
      "metadata": {
        "id": "k3Ol65ZSTauB"
      },
      "execution_count": null,
      "outputs": []
    },
    {
      "cell_type": "markdown",
      "source": [
        "Ex.06)Dada uma temperatura em graus Farenheit (f), elaborar um programa para converter a temperatura em graus Celsius(c)"
      ],
      "metadata": {
        "id": "MUvnwCPjTz7I"
      }
    },
    {
      "cell_type": "code",
      "source": [
        "f = float(input(\"Digite temperatura em graus Farenheit: \"))\n",
        "c = (5/9.0)*(f-32)\n",
        "print(c)"
      ],
      "metadata": {
        "id": "A4a5tMlFUESY"
      },
      "execution_count": null,
      "outputs": []
    },
    {
      "cell_type": "markdown",
      "source": [
        "Ex.07)Dada uma temperatura em Graus Celsius (c), elaborar umap rograma para converter a temperatura para Kelvin (k)"
      ],
      "metadata": {
        "id": "mNjOHVSlUTxY"
      }
    },
    {
      "cell_type": "code",
      "source": [
        "c = float(input(\"Digite temperatura em graus Celsius: \"))\n",
        "k = c + 273\n",
        "print(k)"
      ],
      "metadata": {
        "id": "W6S4Fjk6Uc7X"
      },
      "execution_count": null,
      "outputs": []
    },
    {
      "cell_type": "markdown",
      "source": [
        "Ex.08)Dada uma temperatura em graus Farenheit (f), elaborar um programa para converter a temperatura em graus Kelvin (k)"
      ],
      "metadata": {
        "id": "IKAT8FDoUqBV"
      }
    },
    {
      "cell_type": "code",
      "source": [
        "f = float(input(\"Digite temperatura em graus Farenheit: \"))\n",
        "k = (5.0/9.0)*(f-32)+273\n",
        "print(k)"
      ],
      "metadata": {
        "id": "QyVtvsbB-r6o"
      },
      "execution_count": null,
      "outputs": []
    },
    {
      "cell_type": "markdown",
      "source": [
        "EX.09)São conhecidas as notas de um determinado aluno em uma determinada disciplina durante um semestre letivo: p1, p2, t1 e t2 com pesos respectivamente 3, 5, 1 e 1. São conhecidos também o total de aulas desta disciplina e a quantidade de aulas que o aluno assistiu. Elaborar um programa para calcular e exibir a média do aluno e a sua frequência.\n"
      ],
      "metadata": {
        "id": "lLPQyqn9_w4u"
      }
    },
    {
      "cell_type": "code",
      "source": [
        "p1 = float(input(\"Digite nota p1:\"))\n",
        "p2 = float(input(\"Digite nota p2:\"))\n",
        "t1 = float(input(\"Digite nota t1:\"))\n",
        "t2 = float(input(\"Digite nota t2:\"))\n",
        "m = (3*p1+5*p2+t1+t2)/10.0\n",
        "qtdTOTAL = float(input(\"Digite qtd total de aulas:\"))\n",
        "qtdassistidas = float(input(\"Digite qtd de aulas Assistidas:\"))\n",
        "f = 100*qtdassistidas/qtdTOTAL\n",
        "print(\"A média é = \" + str(m))\n",
        "print(\"Frequência = \" + str(f) + \"%\")"
      ],
      "metadata": {
        "id": "yjJpRAT3AQWg"
      },
      "execution_count": null,
      "outputs": []
    },
    {
      "cell_type": "markdown",
      "source": [
        "Ex.10)Uma experiência foi realizada para determinar a aceleração da gravidade: uma bola caiu, a partir do repouso, do alto de um edifício e o tempo gasto para atingir o solo foi registrado. Dados a altura (a) e o tempo (t), determinar a\n",
        "aceleração da gravidade (g). Onde a = 0.5*g*t*t"
      ],
      "metadata": {
        "id": "LV5uc1zGBNfi"
      }
    },
    {
      "cell_type": "code",
      "source": [
        "a = float(input(\"Digite a altura:\"))\n",
        "t = float(input(\"Digite o tempo em segundos:\"))\n",
        "g = 2*a/(t**2)\n",
        "print(\"Aceleração da gravidade g = \" + str(g))"
      ],
      "metadata": {
        "id": "CuneMcHdBbVQ"
      },
      "execution_count": null,
      "outputs": []
    }
  ]
}