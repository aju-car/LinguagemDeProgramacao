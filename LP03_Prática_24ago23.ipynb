{
  "nbformat": 4,
  "nbformat_minor": 0,
  "metadata": {
    "colab": {
      "private_outputs": true,
      "provenance": []
    },
    "kernelspec": {
      "name": "python3",
      "display_name": "Python 3"
    },
    "language_info": {
      "name": "python"
    }
  },
  "cells": [
    {
      "cell_type": "markdown",
      "source": [
        "01) Dado um número inteiro de 4 dígitos na base binária, elaborar um programa para convertê-lo para um número inteiro na base decimal. Utilizar os operadores % (resto) e /(divisão inteira) para a solução deste problema."
      ],
      "metadata": {
        "id": "BcjKQmAxFtuR"
      }
    },
    {
      "cell_type": "code",
      "execution_count": null,
      "metadata": {
        "id": "0ECI4vXAoYwg"
      },
      "outputs": [],
      "source": [
        "num = int(input(\"Digite número binário de 4 dígitos: \"))\n",
        "q1 = int(num/10)\n",
        "r1 = int(num%10)\n",
        "q2 = int(q1/10)\n",
        "r2 = int(q1%10)\n",
        "q3 = int(q2/10)\n",
        "r3 = int(q2%10)\n",
        "q4 = int(q3/10)\n",
        "r4 = int(q3%10)\n",
        "numDEC = r1*(2**0) + r2*(2**1) + r3*(2**2) + r4*(2**3)\n",
        "print(\"O numero binário \" + str(num) + \" na base decimal, equivale a \" + str(numDEC))"
      ]
    },
    {
      "cell_type": "markdown",
      "source": [
        "02) Dado um número inteiro de 5 dígitos, elaborar um programa para exibir cada um de seus dígitos em uma linha do vídeo. Utilizar os operadores % (resto) e / (divisão inteira) para a solução deste problema."
      ],
      "metadata": {
        "id": "at7e401VGjdL"
      }
    },
    {
      "cell_type": "code",
      "source": [
        "num = int(input(\"Digite número inteiro de 5 dígitos: \"))\n",
        "q1 = int(num/10)\n",
        "r1 = int(num%10)\n",
        "q2 = int(q1/10)\n",
        "r2 = int(q1%10)\n",
        "q3 = int(q2/10)\n",
        "r3 = int(q2%10)\n",
        "q4 = int(q3/10)\n",
        "r4 = int(q3%10)\n",
        "q5 = int(q4/10)\n",
        "r5 = int(q4%10)\n",
        "print(r5)\n",
        "print(r4)\n",
        "print(r3)\n",
        "print(r2)\n",
        "print(r1)\n"
      ],
      "metadata": {
        "id": "1CncVSr9wj63"
      },
      "execution_count": null,
      "outputs": []
    },
    {
      "cell_type": "markdown",
      "source": [
        "03) Dado o preço de um produto (valor inteiro), elaborar um programa para verificar qual a menor quantidade de notas necessárias para efetuar o pagamento da compra. Considerar os valores das notas atuais (1, 2, 5, 10, 20, 50 e 100). Utilizar os operadores % (resto) e / (divisão inteira) para a solução deste problema."
      ],
      "metadata": {
        "id": "NSW0dnKOGoZR"
      }
    },
    {
      "cell_type": "code",
      "source": [
        "\n",
        "valor = int(input(\"Digite valor em R$: \"))\n",
        "qtd100 = int(valor/100)\n",
        "r100 = int(valor%100)\n",
        "qtd50 = int(r100/50)\n",
        "r50 = int(r100%50)\n",
        "qtd20= int(r50/20)\n",
        "r20 = int(r50%20)\n",
        "qtd10= int(r20/10)\n",
        "r10 = int(r20%10)\n",
        "qtd5= int(r10/5)\n",
        "r5 = int(r10%5)\n",
        "qtd2= int(r5/2)\n",
        "r2 = int(r5%2)\n",
        "qtd1= int(r2/1)\n",
        "r1 = int(r2%1)\n",
        "print(\"Qtd de notas de R$100 necessárias: \" + str(qtd100))\n",
        "print(\"Qtd de notas de R$50 necessárias: \" + str(qtd50))\n",
        "print(\"Qtd de notas de R$20 necessárias: \" + str(qtd20))\n",
        "print(\"Qtd de notas de R$10 necessárias: \" + str(qtd10))\n",
        "print(\"Qtd de notas de R$5 necessárias: \" + str(qtd5))\n",
        "print(\"Qtd de notas de R$2 necessárias: \" + str(qtd2))\n",
        "print(\"Qtd de moedas de R$1 necessárias: \" + str(qtd1))"
      ],
      "metadata": {
        "id": "PP-hNlz9GuQZ"
      },
      "execution_count": null,
      "outputs": []
    }
  ]
}